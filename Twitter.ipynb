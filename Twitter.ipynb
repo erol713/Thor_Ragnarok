{
 "cells": [
  {
   "cell_type": "code",
   "execution_count": 1,
   "metadata": {},
   "outputs": [],
   "source": [
    "import numpy as np\n",
    "import pandas as pd\n",
    "import matplotlib.pyplot as plt\n",
    "import seaborn as sns\n",
    "import string\n",
    "%matplotlib inline"
   ]
  },
  {
   "cell_type": "code",
   "execution_count": 2,
   "metadata": {},
   "outputs": [],
   "source": [
    "df =pd.read_csv('ThorRangarokTwitterData.csv', engine='python')"
   ]
  },
  {
   "cell_type": "code",
   "execution_count": 3,
   "metadata": {},
   "outputs": [
    {
     "data": {
      "text/html": [
       "<div>\n",
       "<style scoped>\n",
       "    .dataframe tbody tr th:only-of-type {\n",
       "        vertical-align: middle;\n",
       "    }\n",
       "\n",
       "    .dataframe tbody tr th {\n",
       "        vertical-align: top;\n",
       "    }\n",
       "\n",
       "    .dataframe thead th {\n",
       "        text-align: right;\n",
       "    }\n",
       "</style>\n",
       "<table border=\"1\" class=\"dataframe\">\n",
       "  <thead>\n",
       "    <tr style=\"text-align: right;\">\n",
       "      <th></th>\n",
       "      <th>Unnamed: 0</th>\n",
       "      <th>Contributors</th>\n",
       "      <th>Coordinates</th>\n",
       "      <th>Created_At</th>\n",
       "      <th>Favorited</th>\n",
       "      <th>Followers_Count</th>\n",
       "      <th>Friends_Count</th>\n",
       "      <th>Geo</th>\n",
       "      <th>Location</th>\n",
       "      <th>Place</th>\n",
       "      <th>Retweet_Count</th>\n",
       "      <th>Retweeted</th>\n",
       "      <th>Screen_Name</th>\n",
       "      <th>Source</th>\n",
       "      <th>Truncated</th>\n",
       "      <th>Tweet</th>\n",
       "      <th>TweetId</th>\n",
       "      <th>UserId</th>\n",
       "    </tr>\n",
       "  </thead>\n",
       "  <tbody>\n",
       "    <tr>\n",
       "      <th>0</th>\n",
       "      <td>0</td>\n",
       "      <td>NaN</td>\n",
       "      <td>NaN</td>\n",
       "      <td>2018-01-25 16:41:07</td>\n",
       "      <td>0.0</td>\n",
       "      <td>802.0</td>\n",
       "      <td>265.0</td>\n",
       "      <td>NaN</td>\n",
       "      <td>genderless. pan-R/S</td>\n",
       "      <td>NaN</td>\n",
       "      <td>2710.0</td>\n",
       "      <td>0.0</td>\n",
       "      <td>wislwor6651</td>\n",
       "      <td>Twitter Web Client</td>\n",
       "      <td>0.0</td>\n",
       "      <td>RT @HiddlesPage: It's a family thing! ??\\n#Tho...</td>\n",
       "      <td>9.565676e+17</td>\n",
       "      <td>2.911662e+09</td>\n",
       "    </tr>\n",
       "    <tr>\n",
       "      <th>1</th>\n",
       "      <td>1</td>\n",
       "      <td>NaN</td>\n",
       "      <td>NaN</td>\n",
       "      <td>2018-01-25 16:41:05</td>\n",
       "      <td>0.0</td>\n",
       "      <td>6365.0</td>\n",
       "      <td>3408.0</td>\n",
       "      <td>NaN</td>\n",
       "      <td>On a rainbow. SHARED ACCOUNT</td>\n",
       "      <td>NaN</td>\n",
       "      <td>7.0</td>\n",
       "      <td>0.0</td>\n",
       "      <td>ItalianLokiArmy</td>\n",
       "      <td>Twitter for Android</td>\n",
       "      <td>0.0</td>\n",
       "      <td>RT @HiddlesFanPage_: Happy #Thorsday! #ChrisHe...</td>\n",
       "      <td>9.565676e+17</td>\n",
       "      <td>5.872514e+08</td>\n",
       "    </tr>\n",
       "    <tr>\n",
       "      <th>2</th>\n",
       "      <td>2</td>\n",
       "      <td>NaN</td>\n",
       "      <td>NaN</td>\n",
       "      <td>2018-01-25 16:40:58</td>\n",
       "      <td>0.0</td>\n",
       "      <td>144.0</td>\n",
       "      <td>227.0</td>\n",
       "      <td>NaN</td>\n",
       "      <td>Pennsylvania, USA</td>\n",
       "      <td>NaN</td>\n",
       "      <td>2710.0</td>\n",
       "      <td>0.0</td>\n",
       "      <td>pokerqueen33</td>\n",
       "      <td>Twitter for Android</td>\n",
       "      <td>0.0</td>\n",
       "      <td>RT @HiddlesPage: It's a family thing! ??\\n#Tho...</td>\n",
       "      <td>9.565676e+17</td>\n",
       "      <td>5.842114e+08</td>\n",
       "    </tr>\n",
       "    <tr>\n",
       "      <th>3</th>\n",
       "      <td>3</td>\n",
       "      <td>NaN</td>\n",
       "      <td>NaN</td>\n",
       "      <td>2018-01-25 16:40:56</td>\n",
       "      <td>0.0</td>\n",
       "      <td>123.0</td>\n",
       "      <td>175.0</td>\n",
       "      <td>NaN</td>\n",
       "      <td>????012??/Anima</td>\n",
       "      <td>NaN</td>\n",
       "      <td>2710.0</td>\n",
       "      <td>0.0</td>\n",
       "      <td>shirahadegozai</td>\n",
       "      <td>Twitter for iPhone</td>\n",
       "      <td>0.0</td>\n",
       "      <td>RT @HiddlesPage: It's a family thing! ??\\n#Tho...</td>\n",
       "      <td>9.565676e+17</td>\n",
       "      <td>1.285254e+08</td>\n",
       "    </tr>\n",
       "    <tr>\n",
       "      <th>4</th>\n",
       "      <td>4</td>\n",
       "      <td>NaN</td>\n",
       "      <td>NaN</td>\n",
       "      <td>2018-01-25 16:40:49</td>\n",
       "      <td>0.0</td>\n",
       "      <td>117.0</td>\n",
       "      <td>136.0</td>\n",
       "      <td>NaN</td>\n",
       "      <td>NaN</td>\n",
       "      <td>NaN</td>\n",
       "      <td>2710.0</td>\n",
       "      <td>0.0</td>\n",
       "      <td>hong88_Ag</td>\n",
       "      <td>Twitter Web Client</td>\n",
       "      <td>0.0</td>\n",
       "      <td>RT @HiddlesPage: It's a family thing! ??\\n#Tho...</td>\n",
       "      <td>9.565675e+17</td>\n",
       "      <td>2.867101e+09</td>\n",
       "    </tr>\n",
       "  </tbody>\n",
       "</table>\n",
       "</div>"
      ],
      "text/plain": [
       "   Unnamed: 0  Contributors  Coordinates           Created_At  Favorited  \\\n",
       "0           0           NaN          NaN  2018-01-25 16:41:07        0.0   \n",
       "1           1           NaN          NaN  2018-01-25 16:41:05        0.0   \n",
       "2           2           NaN          NaN  2018-01-25 16:40:58        0.0   \n",
       "3           3           NaN          NaN  2018-01-25 16:40:56        0.0   \n",
       "4           4           NaN          NaN  2018-01-25 16:40:49        0.0   \n",
       "\n",
       "   Followers_Count  Friends_Count  Geo                      Location Place  \\\n",
       "0            802.0          265.0  NaN           genderless. pan-R/S   NaN   \n",
       "1           6365.0         3408.0  NaN  On a rainbow. SHARED ACCOUNT   NaN   \n",
       "2            144.0          227.0  NaN             Pennsylvania, USA   NaN   \n",
       "3            123.0          175.0  NaN               ????012??/Anima   NaN   \n",
       "4            117.0          136.0  NaN                           NaN   NaN   \n",
       "\n",
       "   Retweet_Count  Retweeted      Screen_Name               Source  Truncated  \\\n",
       "0         2710.0        0.0      wislwor6651   Twitter Web Client        0.0   \n",
       "1            7.0        0.0  ItalianLokiArmy  Twitter for Android        0.0   \n",
       "2         2710.0        0.0     pokerqueen33  Twitter for Android        0.0   \n",
       "3         2710.0        0.0   shirahadegozai   Twitter for iPhone        0.0   \n",
       "4         2710.0        0.0        hong88_Ag   Twitter Web Client        0.0   \n",
       "\n",
       "                                               Tweet       TweetId  \\\n",
       "0  RT @HiddlesPage: It's a family thing! ??\\n#Tho...  9.565676e+17   \n",
       "1  RT @HiddlesFanPage_: Happy #Thorsday! #ChrisHe...  9.565676e+17   \n",
       "2  RT @HiddlesPage: It's a family thing! ??\\n#Tho...  9.565676e+17   \n",
       "3  RT @HiddlesPage: It's a family thing! ??\\n#Tho...  9.565676e+17   \n",
       "4  RT @HiddlesPage: It's a family thing! ??\\n#Tho...  9.565675e+17   \n",
       "\n",
       "         UserId  \n",
       "0  2.911662e+09  \n",
       "1  5.872514e+08  \n",
       "2  5.842114e+08  \n",
       "3  1.285254e+08  \n",
       "4  2.867101e+09  "
      ]
     },
     "execution_count": 3,
     "metadata": {},
     "output_type": "execute_result"
    }
   ],
   "source": [
    "df.head()"
   ]
  },
  {
   "cell_type": "code",
   "execution_count": 4,
   "metadata": {},
   "outputs": [
    {
     "name": "stdout",
     "output_type": "stream",
     "text": [
      "<class 'pandas.core.frame.DataFrame'>\n",
      "RangeIndex: 2608 entries, 0 to 2607\n",
      "Data columns (total 18 columns):\n",
      "Unnamed: 0         2608 non-null int64\n",
      "Contributors       0 non-null float64\n",
      "Coordinates        0 non-null float64\n",
      "Created_At         2608 non-null object\n",
      "Favorited          2608 non-null float64\n",
      "Followers_Count    2608 non-null float64\n",
      "Friends_Count      2608 non-null float64\n",
      "Geo                0 non-null float64\n",
      "Location           1645 non-null object\n",
      "Place              6 non-null object\n",
      "Retweet_Count      2608 non-null float64\n",
      "Retweeted          2608 non-null float64\n",
      "Screen_Name        2608 non-null object\n",
      "Source             2608 non-null object\n",
      "Truncated          2608 non-null float64\n",
      "Tweet              2608 non-null object\n",
      "TweetId            2608 non-null float64\n",
      "UserId             2608 non-null float64\n",
      "dtypes: float64(11), int64(1), object(6)\n",
      "memory usage: 305.7+ KB\n"
     ]
    }
   ],
   "source": [
    "df.info()"
   ]
  },
  {
   "cell_type": "code",
   "execution_count": 5,
   "metadata": {},
   "outputs": [],
   "source": [
    "df.drop([ 'Contributors', 'Coordinates', 'Geo', 'Place'], inplace=True, axis=1)"
   ]
  },
  {
   "cell_type": "code",
   "execution_count": 6,
   "metadata": {},
   "outputs": [
    {
     "name": "stdout",
     "output_type": "stream",
     "text": [
      "<class 'pandas.core.frame.DataFrame'>\n",
      "RangeIndex: 2608 entries, 0 to 2607\n",
      "Data columns (total 14 columns):\n",
      "Unnamed: 0         2608 non-null int64\n",
      "Created_At         2608 non-null object\n",
      "Favorited          2608 non-null float64\n",
      "Followers_Count    2608 non-null float64\n",
      "Friends_Count      2608 non-null float64\n",
      "Location           1645 non-null object\n",
      "Retweet_Count      2608 non-null float64\n",
      "Retweeted          2608 non-null float64\n",
      "Screen_Name        2608 non-null object\n",
      "Source             2608 non-null object\n",
      "Truncated          2608 non-null float64\n",
      "Tweet              2608 non-null object\n",
      "TweetId            2608 non-null float64\n",
      "UserId             2608 non-null float64\n",
      "dtypes: float64(8), int64(1), object(5)\n",
      "memory usage: 234.4+ KB\n"
     ]
    }
   ],
   "source": [
    "df.info()"
   ]
  },
  {
   "cell_type": "code",
   "execution_count": 7,
   "metadata": {},
   "outputs": [
    {
     "data": {
      "text/html": [
       "<div>\n",
       "<style scoped>\n",
       "    .dataframe tbody tr th:only-of-type {\n",
       "        vertical-align: middle;\n",
       "    }\n",
       "\n",
       "    .dataframe tbody tr th {\n",
       "        vertical-align: top;\n",
       "    }\n",
       "\n",
       "    .dataframe thead th {\n",
       "        text-align: right;\n",
       "    }\n",
       "</style>\n",
       "<table border=\"1\" class=\"dataframe\">\n",
       "  <thead>\n",
       "    <tr style=\"text-align: right;\">\n",
       "      <th></th>\n",
       "      <th>Unnamed: 0</th>\n",
       "      <th>Favorited</th>\n",
       "      <th>Followers_Count</th>\n",
       "      <th>Friends_Count</th>\n",
       "      <th>Retweet_Count</th>\n",
       "      <th>Retweeted</th>\n",
       "      <th>Truncated</th>\n",
       "      <th>TweetId</th>\n",
       "      <th>UserId</th>\n",
       "    </tr>\n",
       "  </thead>\n",
       "  <tbody>\n",
       "    <tr>\n",
       "      <th>count</th>\n",
       "      <td>2608.000000</td>\n",
       "      <td>2608.0</td>\n",
       "      <td>2608.000000</td>\n",
       "      <td>2608.000000</td>\n",
       "      <td>2608.000000</td>\n",
       "      <td>2608.0</td>\n",
       "      <td>2608.000000</td>\n",
       "      <td>2.608000e+03</td>\n",
       "      <td>2.608000e+03</td>\n",
       "    </tr>\n",
       "    <tr>\n",
       "      <th>mean</th>\n",
       "      <td>1303.500000</td>\n",
       "      <td>0.0</td>\n",
       "      <td>1105.332055</td>\n",
       "      <td>561.785660</td>\n",
       "      <td>2486.281442</td>\n",
       "      <td>0.0</td>\n",
       "      <td>0.013037</td>\n",
       "      <td>9.564495e+17</td>\n",
       "      <td>2.073452e+17</td>\n",
       "    </tr>\n",
       "    <tr>\n",
       "      <th>std</th>\n",
       "      <td>753.009075</td>\n",
       "      <td>0.0</td>\n",
       "      <td>13667.431272</td>\n",
       "      <td>1035.081846</td>\n",
       "      <td>1490.192830</td>\n",
       "      <td>0.0</td>\n",
       "      <td>0.113454</td>\n",
       "      <td>7.835232e+13</td>\n",
       "      <td>3.630647e+17</td>\n",
       "    </tr>\n",
       "    <tr>\n",
       "      <th>min</th>\n",
       "      <td>0.000000</td>\n",
       "      <td>0.0</td>\n",
       "      <td>0.000000</td>\n",
       "      <td>0.000000</td>\n",
       "      <td>0.000000</td>\n",
       "      <td>0.0</td>\n",
       "      <td>0.000000</td>\n",
       "      <td>9.563096e+17</td>\n",
       "      <td>7.722300e+04</td>\n",
       "    </tr>\n",
       "    <tr>\n",
       "      <th>25%</th>\n",
       "      <td>651.750000</td>\n",
       "      <td>0.0</td>\n",
       "      <td>63.750000</td>\n",
       "      <td>136.000000</td>\n",
       "      <td>2712.000000</td>\n",
       "      <td>0.0</td>\n",
       "      <td>0.000000</td>\n",
       "      <td>9.563783e+17</td>\n",
       "      <td>3.742778e+08</td>\n",
       "    </tr>\n",
       "    <tr>\n",
       "      <th>50%</th>\n",
       "      <td>1303.500000</td>\n",
       "      <td>0.0</td>\n",
       "      <td>198.000000</td>\n",
       "      <td>274.000000</td>\n",
       "      <td>2715.000000</td>\n",
       "      <td>0.0</td>\n",
       "      <td>0.000000</td>\n",
       "      <td>9.564576e+17</td>\n",
       "      <td>2.223627e+09</td>\n",
       "    </tr>\n",
       "    <tr>\n",
       "      <th>75%</th>\n",
       "      <td>1955.250000</td>\n",
       "      <td>0.0</td>\n",
       "      <td>535.500000</td>\n",
       "      <td>542.000000</td>\n",
       "      <td>2719.000000</td>\n",
       "      <td>0.0</td>\n",
       "      <td>0.000000</td>\n",
       "      <td>9.565215e+17</td>\n",
       "      <td>4.895820e+09</td>\n",
       "    </tr>\n",
       "    <tr>\n",
       "      <th>max</th>\n",
       "      <td>2607.000000</td>\n",
       "      <td>0.0</td>\n",
       "      <td>665657.000000</td>\n",
       "      <td>16281.000000</td>\n",
       "      <td>40125.000000</td>\n",
       "      <td>0.0</td>\n",
       "      <td>1.000000</td>\n",
       "      <td>9.565676e+17</td>\n",
       "      <td>9.558442e+17</td>\n",
       "    </tr>\n",
       "  </tbody>\n",
       "</table>\n",
       "</div>"
      ],
      "text/plain": [
       "        Unnamed: 0  Favorited  Followers_Count  Friends_Count  Retweet_Count  \\\n",
       "count  2608.000000     2608.0      2608.000000    2608.000000    2608.000000   \n",
       "mean   1303.500000        0.0      1105.332055     561.785660    2486.281442   \n",
       "std     753.009075        0.0     13667.431272    1035.081846    1490.192830   \n",
       "min       0.000000        0.0         0.000000       0.000000       0.000000   \n",
       "25%     651.750000        0.0        63.750000     136.000000    2712.000000   \n",
       "50%    1303.500000        0.0       198.000000     274.000000    2715.000000   \n",
       "75%    1955.250000        0.0       535.500000     542.000000    2719.000000   \n",
       "max    2607.000000        0.0    665657.000000   16281.000000   40125.000000   \n",
       "\n",
       "       Retweeted    Truncated       TweetId        UserId  \n",
       "count     2608.0  2608.000000  2.608000e+03  2.608000e+03  \n",
       "mean         0.0     0.013037  9.564495e+17  2.073452e+17  \n",
       "std          0.0     0.113454  7.835232e+13  3.630647e+17  \n",
       "min          0.0     0.000000  9.563096e+17  7.722300e+04  \n",
       "25%          0.0     0.000000  9.563783e+17  3.742778e+08  \n",
       "50%          0.0     0.000000  9.564576e+17  2.223627e+09  \n",
       "75%          0.0     0.000000  9.565215e+17  4.895820e+09  \n",
       "max          0.0     1.000000  9.565676e+17  9.558442e+17  "
      ]
     },
     "execution_count": 7,
     "metadata": {},
     "output_type": "execute_result"
    }
   ],
   "source": [
    "df.describe()"
   ]
  },
  {
   "cell_type": "code",
   "execution_count": 8,
   "metadata": {},
   "outputs": [],
   "source": [
    "df.drop([ 'Favorited', 'Retweeted'], inplace=True, axis=1)"
   ]
  },
  {
   "cell_type": "code",
   "execution_count": 9,
   "metadata": {},
   "outputs": [
    {
     "data": {
      "text/html": [
       "<div>\n",
       "<style scoped>\n",
       "    .dataframe tbody tr th:only-of-type {\n",
       "        vertical-align: middle;\n",
       "    }\n",
       "\n",
       "    .dataframe tbody tr th {\n",
       "        vertical-align: top;\n",
       "    }\n",
       "\n",
       "    .dataframe thead th {\n",
       "        text-align: right;\n",
       "    }\n",
       "</style>\n",
       "<table border=\"1\" class=\"dataframe\">\n",
       "  <thead>\n",
       "    <tr style=\"text-align: right;\">\n",
       "      <th></th>\n",
       "      <th>Unnamed: 0</th>\n",
       "      <th>Followers_Count</th>\n",
       "      <th>Friends_Count</th>\n",
       "      <th>Retweet_Count</th>\n",
       "      <th>Truncated</th>\n",
       "      <th>TweetId</th>\n",
       "      <th>UserId</th>\n",
       "    </tr>\n",
       "  </thead>\n",
       "  <tbody>\n",
       "    <tr>\n",
       "      <th>count</th>\n",
       "      <td>2608.000000</td>\n",
       "      <td>2608.000000</td>\n",
       "      <td>2608.000000</td>\n",
       "      <td>2608.000000</td>\n",
       "      <td>2608.000000</td>\n",
       "      <td>2.608000e+03</td>\n",
       "      <td>2.608000e+03</td>\n",
       "    </tr>\n",
       "    <tr>\n",
       "      <th>mean</th>\n",
       "      <td>1303.500000</td>\n",
       "      <td>1105.332055</td>\n",
       "      <td>561.785660</td>\n",
       "      <td>2486.281442</td>\n",
       "      <td>0.013037</td>\n",
       "      <td>9.564495e+17</td>\n",
       "      <td>2.073452e+17</td>\n",
       "    </tr>\n",
       "    <tr>\n",
       "      <th>std</th>\n",
       "      <td>753.009075</td>\n",
       "      <td>13667.431272</td>\n",
       "      <td>1035.081846</td>\n",
       "      <td>1490.192830</td>\n",
       "      <td>0.113454</td>\n",
       "      <td>7.835232e+13</td>\n",
       "      <td>3.630647e+17</td>\n",
       "    </tr>\n",
       "    <tr>\n",
       "      <th>min</th>\n",
       "      <td>0.000000</td>\n",
       "      <td>0.000000</td>\n",
       "      <td>0.000000</td>\n",
       "      <td>0.000000</td>\n",
       "      <td>0.000000</td>\n",
       "      <td>9.563096e+17</td>\n",
       "      <td>7.722300e+04</td>\n",
       "    </tr>\n",
       "    <tr>\n",
       "      <th>25%</th>\n",
       "      <td>651.750000</td>\n",
       "      <td>63.750000</td>\n",
       "      <td>136.000000</td>\n",
       "      <td>2712.000000</td>\n",
       "      <td>0.000000</td>\n",
       "      <td>9.563783e+17</td>\n",
       "      <td>3.742778e+08</td>\n",
       "    </tr>\n",
       "    <tr>\n",
       "      <th>50%</th>\n",
       "      <td>1303.500000</td>\n",
       "      <td>198.000000</td>\n",
       "      <td>274.000000</td>\n",
       "      <td>2715.000000</td>\n",
       "      <td>0.000000</td>\n",
       "      <td>9.564576e+17</td>\n",
       "      <td>2.223627e+09</td>\n",
       "    </tr>\n",
       "    <tr>\n",
       "      <th>75%</th>\n",
       "      <td>1955.250000</td>\n",
       "      <td>535.500000</td>\n",
       "      <td>542.000000</td>\n",
       "      <td>2719.000000</td>\n",
       "      <td>0.000000</td>\n",
       "      <td>9.565215e+17</td>\n",
       "      <td>4.895820e+09</td>\n",
       "    </tr>\n",
       "    <tr>\n",
       "      <th>max</th>\n",
       "      <td>2607.000000</td>\n",
       "      <td>665657.000000</td>\n",
       "      <td>16281.000000</td>\n",
       "      <td>40125.000000</td>\n",
       "      <td>1.000000</td>\n",
       "      <td>9.565676e+17</td>\n",
       "      <td>9.558442e+17</td>\n",
       "    </tr>\n",
       "  </tbody>\n",
       "</table>\n",
       "</div>"
      ],
      "text/plain": [
       "        Unnamed: 0  Followers_Count  Friends_Count  Retweet_Count  \\\n",
       "count  2608.000000      2608.000000    2608.000000    2608.000000   \n",
       "mean   1303.500000      1105.332055     561.785660    2486.281442   \n",
       "std     753.009075     13667.431272    1035.081846    1490.192830   \n",
       "min       0.000000         0.000000       0.000000       0.000000   \n",
       "25%     651.750000        63.750000     136.000000    2712.000000   \n",
       "50%    1303.500000       198.000000     274.000000    2715.000000   \n",
       "75%    1955.250000       535.500000     542.000000    2719.000000   \n",
       "max    2607.000000    665657.000000   16281.000000   40125.000000   \n",
       "\n",
       "         Truncated       TweetId        UserId  \n",
       "count  2608.000000  2.608000e+03  2.608000e+03  \n",
       "mean      0.013037  9.564495e+17  2.073452e+17  \n",
       "std       0.113454  7.835232e+13  3.630647e+17  \n",
       "min       0.000000  9.563096e+17  7.722300e+04  \n",
       "25%       0.000000  9.563783e+17  3.742778e+08  \n",
       "50%       0.000000  9.564576e+17  2.223627e+09  \n",
       "75%       0.000000  9.565215e+17  4.895820e+09  \n",
       "max       1.000000  9.565676e+17  9.558442e+17  "
      ]
     },
     "execution_count": 9,
     "metadata": {},
     "output_type": "execute_result"
    }
   ],
   "source": [
    "df.describe()"
   ]
  },
  {
   "cell_type": "code",
   "execution_count": 10,
   "metadata": {},
   "outputs": [
    {
     "data": {
      "text/html": [
       "<div>\n",
       "<style scoped>\n",
       "    .dataframe tbody tr th:only-of-type {\n",
       "        vertical-align: middle;\n",
       "    }\n",
       "\n",
       "    .dataframe tbody tr th {\n",
       "        vertical-align: top;\n",
       "    }\n",
       "\n",
       "    .dataframe thead th {\n",
       "        text-align: right;\n",
       "    }\n",
       "</style>\n",
       "<table border=\"1\" class=\"dataframe\">\n",
       "  <thead>\n",
       "    <tr style=\"text-align: right;\">\n",
       "      <th></th>\n",
       "      <th>Unnamed: 0</th>\n",
       "      <th>Created_At</th>\n",
       "      <th>Followers_Count</th>\n",
       "      <th>Friends_Count</th>\n",
       "      <th>Location</th>\n",
       "      <th>Retweet_Count</th>\n",
       "      <th>Screen_Name</th>\n",
       "      <th>Source</th>\n",
       "      <th>Truncated</th>\n",
       "      <th>Tweet</th>\n",
       "      <th>TweetId</th>\n",
       "      <th>UserId</th>\n",
       "    </tr>\n",
       "  </thead>\n",
       "  <tbody>\n",
       "    <tr>\n",
       "      <th>0</th>\n",
       "      <td>0</td>\n",
       "      <td>2018-01-25 16:41:07</td>\n",
       "      <td>802.0</td>\n",
       "      <td>265.0</td>\n",
       "      <td>genderless. pan-R/S</td>\n",
       "      <td>2710.0</td>\n",
       "      <td>wislwor6651</td>\n",
       "      <td>Twitter Web Client</td>\n",
       "      <td>0.0</td>\n",
       "      <td>RT @HiddlesPage: It's a family thing! ??\\n#Tho...</td>\n",
       "      <td>9.565676e+17</td>\n",
       "      <td>2.911662e+09</td>\n",
       "    </tr>\n",
       "    <tr>\n",
       "      <th>1</th>\n",
       "      <td>1</td>\n",
       "      <td>2018-01-25 16:41:05</td>\n",
       "      <td>6365.0</td>\n",
       "      <td>3408.0</td>\n",
       "      <td>On a rainbow. SHARED ACCOUNT</td>\n",
       "      <td>7.0</td>\n",
       "      <td>ItalianLokiArmy</td>\n",
       "      <td>Twitter for Android</td>\n",
       "      <td>0.0</td>\n",
       "      <td>RT @HiddlesFanPage_: Happy #Thorsday! #ChrisHe...</td>\n",
       "      <td>9.565676e+17</td>\n",
       "      <td>5.872514e+08</td>\n",
       "    </tr>\n",
       "    <tr>\n",
       "      <th>2</th>\n",
       "      <td>2</td>\n",
       "      <td>2018-01-25 16:40:58</td>\n",
       "      <td>144.0</td>\n",
       "      <td>227.0</td>\n",
       "      <td>Pennsylvania, USA</td>\n",
       "      <td>2710.0</td>\n",
       "      <td>pokerqueen33</td>\n",
       "      <td>Twitter for Android</td>\n",
       "      <td>0.0</td>\n",
       "      <td>RT @HiddlesPage: It's a family thing! ??\\n#Tho...</td>\n",
       "      <td>9.565676e+17</td>\n",
       "      <td>5.842114e+08</td>\n",
       "    </tr>\n",
       "    <tr>\n",
       "      <th>3</th>\n",
       "      <td>3</td>\n",
       "      <td>2018-01-25 16:40:56</td>\n",
       "      <td>123.0</td>\n",
       "      <td>175.0</td>\n",
       "      <td>????012??/Anima</td>\n",
       "      <td>2710.0</td>\n",
       "      <td>shirahadegozai</td>\n",
       "      <td>Twitter for iPhone</td>\n",
       "      <td>0.0</td>\n",
       "      <td>RT @HiddlesPage: It's a family thing! ??\\n#Tho...</td>\n",
       "      <td>9.565676e+17</td>\n",
       "      <td>1.285254e+08</td>\n",
       "    </tr>\n",
       "    <tr>\n",
       "      <th>4</th>\n",
       "      <td>4</td>\n",
       "      <td>2018-01-25 16:40:49</td>\n",
       "      <td>117.0</td>\n",
       "      <td>136.0</td>\n",
       "      <td>NaN</td>\n",
       "      <td>2710.0</td>\n",
       "      <td>hong88_Ag</td>\n",
       "      <td>Twitter Web Client</td>\n",
       "      <td>0.0</td>\n",
       "      <td>RT @HiddlesPage: It's a family thing! ??\\n#Tho...</td>\n",
       "      <td>9.565675e+17</td>\n",
       "      <td>2.867101e+09</td>\n",
       "    </tr>\n",
       "  </tbody>\n",
       "</table>\n",
       "</div>"
      ],
      "text/plain": [
       "   Unnamed: 0           Created_At  Followers_Count  Friends_Count  \\\n",
       "0           0  2018-01-25 16:41:07            802.0          265.0   \n",
       "1           1  2018-01-25 16:41:05           6365.0         3408.0   \n",
       "2           2  2018-01-25 16:40:58            144.0          227.0   \n",
       "3           3  2018-01-25 16:40:56            123.0          175.0   \n",
       "4           4  2018-01-25 16:40:49            117.0          136.0   \n",
       "\n",
       "                       Location  Retweet_Count      Screen_Name  \\\n",
       "0           genderless. pan-R/S         2710.0      wislwor6651   \n",
       "1  On a rainbow. SHARED ACCOUNT            7.0  ItalianLokiArmy   \n",
       "2             Pennsylvania, USA         2710.0     pokerqueen33   \n",
       "3               ????012??/Anima         2710.0   shirahadegozai   \n",
       "4                           NaN         2710.0        hong88_Ag   \n",
       "\n",
       "                Source  Truncated  \\\n",
       "0   Twitter Web Client        0.0   \n",
       "1  Twitter for Android        0.0   \n",
       "2  Twitter for Android        0.0   \n",
       "3   Twitter for iPhone        0.0   \n",
       "4   Twitter Web Client        0.0   \n",
       "\n",
       "                                               Tweet       TweetId  \\\n",
       "0  RT @HiddlesPage: It's a family thing! ??\\n#Tho...  9.565676e+17   \n",
       "1  RT @HiddlesFanPage_: Happy #Thorsday! #ChrisHe...  9.565676e+17   \n",
       "2  RT @HiddlesPage: It's a family thing! ??\\n#Tho...  9.565676e+17   \n",
       "3  RT @HiddlesPage: It's a family thing! ??\\n#Tho...  9.565676e+17   \n",
       "4  RT @HiddlesPage: It's a family thing! ??\\n#Tho...  9.565675e+17   \n",
       "\n",
       "         UserId  \n",
       "0  2.911662e+09  \n",
       "1  5.872514e+08  \n",
       "2  5.842114e+08  \n",
       "3  1.285254e+08  \n",
       "4  2.867101e+09  "
      ]
     },
     "execution_count": 10,
     "metadata": {},
     "output_type": "execute_result"
    }
   ],
   "source": [
    "df.head()"
   ]
  },
  {
   "cell_type": "code",
   "execution_count": 11,
   "metadata": {},
   "outputs": [
    {
     "data": {
      "text/plain": [
       "226"
      ]
     },
     "execution_count": 11,
     "metadata": {},
     "output_type": "execute_result"
    }
   ],
   "source": [
    "df['Tweet'].nunique()"
   ]
  },
  {
   "cell_type": "code",
   "execution_count": 12,
   "metadata": {},
   "outputs": [],
   "source": [
    "tweets = df['Tweet']"
   ]
  },
  {
   "cell_type": "code",
   "execution_count": 13,
   "metadata": {},
   "outputs": [
    {
     "data": {
      "text/plain": [
       "0    RT @HiddlesPage: It's a family thing! ??\\n#Tho...\n",
       "1    RT @HiddlesFanPage_: Happy #Thorsday! #ChrisHe...\n",
       "2    RT @HiddlesPage: It's a family thing! ??\\n#Tho...\n",
       "3    RT @HiddlesPage: It's a family thing! ??\\n#Tho...\n",
       "4    RT @HiddlesPage: It's a family thing! ??\\n#Tho...\n",
       "Name: Tweet, dtype: object"
      ]
     },
     "execution_count": 13,
     "metadata": {},
     "output_type": "execute_result"
    }
   ],
   "source": [
    "tweets.head()"
   ]
  },
  {
   "cell_type": "code",
   "execution_count": 14,
   "metadata": {},
   "outputs": [
    {
     "data": {
      "text/plain": [
       "count                                                  2608\n",
       "unique                                                  226\n",
       "top       RT @HiddlesPage: It's a family thing! ??\\n#Tho...\n",
       "freq                                                   2263\n",
       "Name: Tweet, dtype: object"
      ]
     },
     "execution_count": 14,
     "metadata": {},
     "output_type": "execute_result"
    }
   ],
   "source": [
    "tweets.describe()"
   ]
  },
  {
   "cell_type": "code",
   "execution_count": 15,
   "metadata": {},
   "outputs": [
    {
     "data": {
      "text/plain": [
       "226"
      ]
     },
     "execution_count": 15,
     "metadata": {},
     "output_type": "execute_result"
    }
   ],
   "source": [
    "tweets.nunique()"
   ]
  },
  {
   "cell_type": "code",
   "execution_count": 16,
   "metadata": {},
   "outputs": [
    {
     "data": {
      "text/plain": [
       "0    RT @HiddlesPage: It's a family thing! ??\\n#Tho...\n",
       "1    RT @HiddlesFanPage_: Happy #Thorsday! #ChrisHe...\n",
       "2    RT @HiddlesPage: It's a family thing! ??\\n#Tho...\n",
       "3    RT @HiddlesPage: It's a family thing! ??\\n#Tho...\n",
       "4    RT @HiddlesPage: It's a family thing! ??\\n#Tho...\n",
       "Name: Tweet, dtype: object"
      ]
     },
     "execution_count": 16,
     "metadata": {},
     "output_type": "execute_result"
    }
   ],
   "source": [
    "tweets[:5]"
   ]
  },
  {
   "cell_type": "code",
   "execution_count": 17,
   "metadata": {},
   "outputs": [
    {
     "data": {
      "text/plain": [
       "RT @HiddlesPage: It's a family thing! ??\\n#ThorRagnarok #Thorsday https://t.co/7MuTKdS3VD                                                      2263\n",
       "RT @TomH_Brasil: Loki: Your Savior is Here!!! #Loki #TomHiddleston #ThorRagnarok ? https://t.co/naFWN9CtoQ                                       26\n",
       "RT @MCU_Tweets: Ideas for a fourth THOR movie were discussed between #ThorRagnarok director @TaikaWaititi and actor @chrishemsworth during…      21\n",
       "RT @HeroesInColor00: #Funko #marvel #ThorRagnarok - #Heimdall\\nGet it now https://t.co/RXm0hbKKeN https://t.co/uBTx5zdhXj                        10\n",
       "RT @9GAG: He used to be mine.\\n#Thorragnarok https://t.co/Uw8vJfuzda                                                                             10\n",
       "Name: Tweet, dtype: int64"
      ]
     },
     "execution_count": 17,
     "metadata": {},
     "output_type": "execute_result"
    }
   ],
   "source": [
    "tweets.value_counts().head()"
   ]
  },
  {
   "cell_type": "code",
   "execution_count": 18,
   "metadata": {},
   "outputs": [],
   "source": [
    "df['pre_clean_len'] = [len(t) for t in df.Tweet]"
   ]
  },
  {
   "cell_type": "code",
   "execution_count": 19,
   "metadata": {},
   "outputs": [
    {
     "data": {
      "text/html": [
       "<div>\n",
       "<style scoped>\n",
       "    .dataframe tbody tr th:only-of-type {\n",
       "        vertical-align: middle;\n",
       "    }\n",
       "\n",
       "    .dataframe tbody tr th {\n",
       "        vertical-align: top;\n",
       "    }\n",
       "\n",
       "    .dataframe thead th {\n",
       "        text-align: right;\n",
       "    }\n",
       "</style>\n",
       "<table border=\"1\" class=\"dataframe\">\n",
       "  <thead>\n",
       "    <tr style=\"text-align: right;\">\n",
       "      <th></th>\n",
       "      <th>Unnamed: 0</th>\n",
       "      <th>Created_At</th>\n",
       "      <th>Followers_Count</th>\n",
       "      <th>Friends_Count</th>\n",
       "      <th>Location</th>\n",
       "      <th>Retweet_Count</th>\n",
       "      <th>Screen_Name</th>\n",
       "      <th>Source</th>\n",
       "      <th>Truncated</th>\n",
       "      <th>Tweet</th>\n",
       "      <th>TweetId</th>\n",
       "      <th>UserId</th>\n",
       "      <th>pre_clean_len</th>\n",
       "    </tr>\n",
       "  </thead>\n",
       "  <tbody>\n",
       "    <tr>\n",
       "      <th>0</th>\n",
       "      <td>0</td>\n",
       "      <td>2018-01-25 16:41:07</td>\n",
       "      <td>802.0</td>\n",
       "      <td>265.0</td>\n",
       "      <td>genderless. pan-R/S</td>\n",
       "      <td>2710.0</td>\n",
       "      <td>wislwor6651</td>\n",
       "      <td>Twitter Web Client</td>\n",
       "      <td>0.0</td>\n",
       "      <td>RT @HiddlesPage: It's a family thing! ??\\n#Tho...</td>\n",
       "      <td>9.565676e+17</td>\n",
       "      <td>2.911662e+09</td>\n",
       "      <td>88</td>\n",
       "    </tr>\n",
       "    <tr>\n",
       "      <th>1</th>\n",
       "      <td>1</td>\n",
       "      <td>2018-01-25 16:41:05</td>\n",
       "      <td>6365.0</td>\n",
       "      <td>3408.0</td>\n",
       "      <td>On a rainbow. SHARED ACCOUNT</td>\n",
       "      <td>7.0</td>\n",
       "      <td>ItalianLokiArmy</td>\n",
       "      <td>Twitter for Android</td>\n",
       "      <td>0.0</td>\n",
       "      <td>RT @HiddlesFanPage_: Happy #Thorsday! #ChrisHe...</td>\n",
       "      <td>9.565676e+17</td>\n",
       "      <td>5.872514e+08</td>\n",
       "      <td>118</td>\n",
       "    </tr>\n",
       "    <tr>\n",
       "      <th>2</th>\n",
       "      <td>2</td>\n",
       "      <td>2018-01-25 16:40:58</td>\n",
       "      <td>144.0</td>\n",
       "      <td>227.0</td>\n",
       "      <td>Pennsylvania, USA</td>\n",
       "      <td>2710.0</td>\n",
       "      <td>pokerqueen33</td>\n",
       "      <td>Twitter for Android</td>\n",
       "      <td>0.0</td>\n",
       "      <td>RT @HiddlesPage: It's a family thing! ??\\n#Tho...</td>\n",
       "      <td>9.565676e+17</td>\n",
       "      <td>5.842114e+08</td>\n",
       "      <td>88</td>\n",
       "    </tr>\n",
       "    <tr>\n",
       "      <th>3</th>\n",
       "      <td>3</td>\n",
       "      <td>2018-01-25 16:40:56</td>\n",
       "      <td>123.0</td>\n",
       "      <td>175.0</td>\n",
       "      <td>????012??/Anima</td>\n",
       "      <td>2710.0</td>\n",
       "      <td>shirahadegozai</td>\n",
       "      <td>Twitter for iPhone</td>\n",
       "      <td>0.0</td>\n",
       "      <td>RT @HiddlesPage: It's a family thing! ??\\n#Tho...</td>\n",
       "      <td>9.565676e+17</td>\n",
       "      <td>1.285254e+08</td>\n",
       "      <td>88</td>\n",
       "    </tr>\n",
       "    <tr>\n",
       "      <th>4</th>\n",
       "      <td>4</td>\n",
       "      <td>2018-01-25 16:40:49</td>\n",
       "      <td>117.0</td>\n",
       "      <td>136.0</td>\n",
       "      <td>NaN</td>\n",
       "      <td>2710.0</td>\n",
       "      <td>hong88_Ag</td>\n",
       "      <td>Twitter Web Client</td>\n",
       "      <td>0.0</td>\n",
       "      <td>RT @HiddlesPage: It's a family thing! ??\\n#Tho...</td>\n",
       "      <td>9.565675e+17</td>\n",
       "      <td>2.867101e+09</td>\n",
       "      <td>88</td>\n",
       "    </tr>\n",
       "  </tbody>\n",
       "</table>\n",
       "</div>"
      ],
      "text/plain": [
       "   Unnamed: 0           Created_At  Followers_Count  Friends_Count  \\\n",
       "0           0  2018-01-25 16:41:07            802.0          265.0   \n",
       "1           1  2018-01-25 16:41:05           6365.0         3408.0   \n",
       "2           2  2018-01-25 16:40:58            144.0          227.0   \n",
       "3           3  2018-01-25 16:40:56            123.0          175.0   \n",
       "4           4  2018-01-25 16:40:49            117.0          136.0   \n",
       "\n",
       "                       Location  Retweet_Count      Screen_Name  \\\n",
       "0           genderless. pan-R/S         2710.0      wislwor6651   \n",
       "1  On a rainbow. SHARED ACCOUNT            7.0  ItalianLokiArmy   \n",
       "2             Pennsylvania, USA         2710.0     pokerqueen33   \n",
       "3               ????012??/Anima         2710.0   shirahadegozai   \n",
       "4                           NaN         2710.0        hong88_Ag   \n",
       "\n",
       "                Source  Truncated  \\\n",
       "0   Twitter Web Client        0.0   \n",
       "1  Twitter for Android        0.0   \n",
       "2  Twitter for Android        0.0   \n",
       "3   Twitter for iPhone        0.0   \n",
       "4   Twitter Web Client        0.0   \n",
       "\n",
       "                                               Tweet       TweetId  \\\n",
       "0  RT @HiddlesPage: It's a family thing! ??\\n#Tho...  9.565676e+17   \n",
       "1  RT @HiddlesFanPage_: Happy #Thorsday! #ChrisHe...  9.565676e+17   \n",
       "2  RT @HiddlesPage: It's a family thing! ??\\n#Tho...  9.565676e+17   \n",
       "3  RT @HiddlesPage: It's a family thing! ??\\n#Tho...  9.565676e+17   \n",
       "4  RT @HiddlesPage: It's a family thing! ??\\n#Tho...  9.565675e+17   \n",
       "\n",
       "         UserId  pre_clean_len  \n",
       "0  2.911662e+09             88  \n",
       "1  5.872514e+08            118  \n",
       "2  5.842114e+08             88  \n",
       "3  1.285254e+08             88  \n",
       "4  2.867101e+09             88  "
      ]
     },
     "execution_count": 19,
     "metadata": {},
     "output_type": "execute_result"
    }
   ],
   "source": [
    "df.head()"
   ]
  },
  {
   "cell_type": "code",
   "execution_count": 20,
   "metadata": {},
   "outputs": [],
   "source": [
    "tw = df[['Tweet', 'Retweet_Count', 'pre_clean_len' ]]"
   ]
  },
  {
   "cell_type": "code",
   "execution_count": 21,
   "metadata": {},
   "outputs": [
    {
     "data": {
      "text/html": [
       "<div>\n",
       "<style scoped>\n",
       "    .dataframe tbody tr th:only-of-type {\n",
       "        vertical-align: middle;\n",
       "    }\n",
       "\n",
       "    .dataframe tbody tr th {\n",
       "        vertical-align: top;\n",
       "    }\n",
       "\n",
       "    .dataframe thead th {\n",
       "        text-align: right;\n",
       "    }\n",
       "</style>\n",
       "<table border=\"1\" class=\"dataframe\">\n",
       "  <thead>\n",
       "    <tr style=\"text-align: right;\">\n",
       "      <th></th>\n",
       "      <th>Tweet</th>\n",
       "      <th>Retweet_Count</th>\n",
       "      <th>pre_clean_len</th>\n",
       "    </tr>\n",
       "  </thead>\n",
       "  <tbody>\n",
       "    <tr>\n",
       "      <th>0</th>\n",
       "      <td>RT @HiddlesPage: It's a family thing! ??\\n#Tho...</td>\n",
       "      <td>2710.0</td>\n",
       "      <td>88</td>\n",
       "    </tr>\n",
       "    <tr>\n",
       "      <th>1</th>\n",
       "      <td>RT @HiddlesFanPage_: Happy #Thorsday! #ChrisHe...</td>\n",
       "      <td>7.0</td>\n",
       "      <td>118</td>\n",
       "    </tr>\n",
       "    <tr>\n",
       "      <th>2</th>\n",
       "      <td>RT @HiddlesPage: It's a family thing! ??\\n#Tho...</td>\n",
       "      <td>2710.0</td>\n",
       "      <td>88</td>\n",
       "    </tr>\n",
       "    <tr>\n",
       "      <th>3</th>\n",
       "      <td>RT @HiddlesPage: It's a family thing! ??\\n#Tho...</td>\n",
       "      <td>2710.0</td>\n",
       "      <td>88</td>\n",
       "    </tr>\n",
       "    <tr>\n",
       "      <th>4</th>\n",
       "      <td>RT @HiddlesPage: It's a family thing! ??\\n#Tho...</td>\n",
       "      <td>2710.0</td>\n",
       "      <td>88</td>\n",
       "    </tr>\n",
       "  </tbody>\n",
       "</table>\n",
       "</div>"
      ],
      "text/plain": [
       "                                               Tweet  Retweet_Count  \\\n",
       "0  RT @HiddlesPage: It's a family thing! ??\\n#Tho...         2710.0   \n",
       "1  RT @HiddlesFanPage_: Happy #Thorsday! #ChrisHe...            7.0   \n",
       "2  RT @HiddlesPage: It's a family thing! ??\\n#Tho...         2710.0   \n",
       "3  RT @HiddlesPage: It's a family thing! ??\\n#Tho...         2710.0   \n",
       "4  RT @HiddlesPage: It's a family thing! ??\\n#Tho...         2710.0   \n",
       "\n",
       "   pre_clean_len  \n",
       "0             88  \n",
       "1            118  \n",
       "2             88  \n",
       "3             88  \n",
       "4             88  "
      ]
     },
     "execution_count": 21,
     "metadata": {},
     "output_type": "execute_result"
    }
   ],
   "source": [
    "tw.head()"
   ]
  },
  {
   "cell_type": "code",
   "execution_count": 22,
   "metadata": {},
   "outputs": [
    {
     "data": {
      "text/plain": [
       "Tweet\n",
       "RT @HiddlesPage: It's a family thing! ??\\n#ThorRagnarok #Thorsday https://t.co/7MuTKdS3VD                                                      2263\n",
       "RT @TomH_Brasil: Loki: Your Savior is Here!!! #Loki #TomHiddleston #ThorRagnarok ? https://t.co/naFWN9CtoQ                                       26\n",
       "RT @MCU_Tweets: Ideas for a fourth THOR movie were discussed between #ThorRagnarok director @TaikaWaititi and actor @chrishemsworth during…      21\n",
       "RT @HeroesInColor00: #Funko #marvel #ThorRagnarok - #Heimdall\\nGet it now https://t.co/RXm0hbKKeN https://t.co/uBTx5zdhXj                        10\n",
       "RT @9GAG: He used to be mine.\\n#Thorragnarok https://t.co/Uw8vJfuzda                                                                             10\n",
       "Name: Retweet_Count, dtype: int64"
      ]
     },
     "execution_count": 22,
     "metadata": {},
     "output_type": "execute_result"
    }
   ],
   "source": [
    "tw.groupby('Tweet')['Retweet_Count'].count().sort_values(ascending=False).head()"
   ]
  },
  {
   "cell_type": "code",
   "execution_count": 23,
   "metadata": {},
   "outputs": [],
   "source": [
    "import nltk\n",
    "from nltk.corpus import stopwords\n",
    "import re"
   ]
  },
  {
   "cell_type": "code",
   "execution_count": 24,
   "metadata": {},
   "outputs": [],
   "source": [
    "at = r'@[A-Za-z0-9]+'\n",
    "link = r'https?://[A-Za-z0-9./]+'\n",
    "combined = r'|'.join((at, link))\n",
    "\n",
    "def text_proces(tweets):\n",
    "    '''\n",
    "    0. remove links and @'s\n",
    "    1. remove punctuation and remove #tags but keep teh text\n",
    "    2. remove stop words\n",
    "    3. return list of clean text words in lower case\n",
    "    '''\n",
    "    txt = re.sub(combined, '', tweets)\n",
    "    \n",
    "    nopunc = [char for char in txt if char not in string.punctuation]\n",
    "    \n",
    "    nopunc = ''.join(nopunc)\n",
    "    \n",
    "    return [word.lower() for word in nopunc.split() if word.lower() not in stopwords.words('english')]"
   ]
  },
  {
   "cell_type": "code",
   "execution_count": 25,
   "metadata": {},
   "outputs": [],
   "source": [
    "text = tw['Tweet'].apply(text_proces)"
   ]
  },
  {
   "cell_type": "code",
   "execution_count": 26,
   "metadata": {},
   "outputs": [],
   "source": [
    "clean_df = pd.DataFrame(text)"
   ]
  },
  {
   "cell_type": "markdown",
   "metadata": {},
   "source": [
    "### How the cleaned data looks "
   ]
  },
  {
   "cell_type": "code",
   "execution_count": 27,
   "metadata": {},
   "outputs": [
    {
     "data": {
      "text/plain": [
       "['rt', 'family', 'thing', 'thorragnarok', 'thorsday']"
      ]
     },
     "execution_count": 27,
     "metadata": {},
     "output_type": "execute_result"
    }
   ],
   "source": [
    "clean_df['Tweet'][0]"
   ]
  },
  {
   "cell_type": "markdown",
   "metadata": {},
   "source": [
    "### And how the data used to look"
   ]
  },
  {
   "cell_type": "code",
   "execution_count": 28,
   "metadata": {},
   "outputs": [
    {
     "data": {
      "text/plain": [
       "\"RT @HiddlesPage: It's a family thing! ??\\n#ThorRagnarok #Thorsday https://t.co/7MuTKdS3VD\""
      ]
     },
     "execution_count": 28,
     "metadata": {},
     "output_type": "execute_result"
    }
   ],
   "source": [
    "tw['Tweet'][0]"
   ]
  },
  {
   "cell_type": "code",
   "execution_count": 29,
   "metadata": {},
   "outputs": [],
   "source": [
    "x =tw.groupby('Tweet')['pre_clean_len'].mean().sort_values(ascending=False)"
   ]
  },
  {
   "cell_type": "code",
   "execution_count": 30,
   "metadata": {},
   "outputs": [],
   "source": [
    "x= pd.DataFrame(x)\n"
   ]
  },
  {
   "cell_type": "code",
   "execution_count": 31,
   "metadata": {},
   "outputs": [],
   "source": [
    "from nltk.stem.porter import *\n",
    "lemmer = nltk.stem.WordNetLemmatizer()\n"
   ]
  },
  {
   "cell_type": "code",
   "execution_count": 32,
   "metadata": {},
   "outputs": [],
   "source": [
    "clean_df['new tweets'] = clean_df['Tweet'].apply(lambda x: [lemmer.lemmatize(i) for i in x])\n"
   ]
  },
  {
   "cell_type": "code",
   "execution_count": 33,
   "metadata": {},
   "outputs": [],
   "source": [
    "for i in range(len(clean_df['new tweets'])):\n",
    "    clean_df['new tweets'][i] = ' '.join(clean_df['new tweets'][i])\n",
    "\n",
    "    "
   ]
  },
  {
   "cell_type": "code",
   "execution_count": 134,
   "metadata": {},
   "outputs": [],
   "source": [
    "new = clean_df.drop_duplicates(subset='new tweets')"
   ]
  },
  {
   "cell_type": "code",
   "execution_count": 135,
   "metadata": {},
   "outputs": [
    {
     "data": {
      "text/html": [
       "<div>\n",
       "<style scoped>\n",
       "    .dataframe tbody tr th:only-of-type {\n",
       "        vertical-align: middle;\n",
       "    }\n",
       "\n",
       "    .dataframe tbody tr th {\n",
       "        vertical-align: top;\n",
       "    }\n",
       "\n",
       "    .dataframe thead th {\n",
       "        text-align: right;\n",
       "    }\n",
       "</style>\n",
       "<table border=\"1\" class=\"dataframe\">\n",
       "  <thead>\n",
       "    <tr style=\"text-align: right;\">\n",
       "      <th></th>\n",
       "      <th>Tweet</th>\n",
       "      <th>new tweets</th>\n",
       "    </tr>\n",
       "  </thead>\n",
       "  <tbody>\n",
       "    <tr>\n",
       "      <th>0</th>\n",
       "      <td>[rt, family, thing, thorragnarok, thorsday]</td>\n",
       "      <td>rt family thing thorragnarok thorsday</td>\n",
       "    </tr>\n",
       "    <tr>\n",
       "      <th>1</th>\n",
       "      <td>[rt, happy, thorsday, chrishemsworth, tomhiddl...</td>\n",
       "      <td>rt happy thorsday chrishemsworth tomhiddleston...</td>\n",
       "    </tr>\n",
       "    <tr>\n",
       "      <th>2</th>\n",
       "      <td>[rt, family, thing, thorragnarok, thorsday]</td>\n",
       "      <td>rt family thing thorragnarok thorsday</td>\n",
       "    </tr>\n",
       "    <tr>\n",
       "      <th>3</th>\n",
       "      <td>[rt, family, thing, thorragnarok, thorsday]</td>\n",
       "      <td>rt family thing thorragnarok thorsday</td>\n",
       "    </tr>\n",
       "    <tr>\n",
       "      <th>4</th>\n",
       "      <td>[rt, family, thing, thorragnarok, thorsday]</td>\n",
       "      <td>rt family thing thorragnarok thorsday</td>\n",
       "    </tr>\n",
       "  </tbody>\n",
       "</table>\n",
       "</div>"
      ],
      "text/plain": [
       "                                               Tweet  \\\n",
       "0        [rt, family, thing, thorragnarok, thorsday]   \n",
       "1  [rt, happy, thorsday, chrishemsworth, tomhiddl...   \n",
       "2        [rt, family, thing, thorragnarok, thorsday]   \n",
       "3        [rt, family, thing, thorragnarok, thorsday]   \n",
       "4        [rt, family, thing, thorragnarok, thorsday]   \n",
       "\n",
       "                                          new tweets  \n",
       "0              rt family thing thorragnarok thorsday  \n",
       "1  rt happy thorsday chrishemsworth tomhiddleston...  \n",
       "2              rt family thing thorragnarok thorsday  \n",
       "3              rt family thing thorragnarok thorsday  \n",
       "4              rt family thing thorragnarok thorsday  "
      ]
     },
     "execution_count": 135,
     "metadata": {},
     "output_type": "execute_result"
    }
   ],
   "source": [
    "clean_df.head()"
   ]
  },
  {
   "cell_type": "code",
   "execution_count": null,
   "metadata": {},
   "outputs": [],
   "source": []
  },
  {
   "cell_type": "code",
   "execution_count": 136,
   "metadata": {},
   "outputs": [
    {
     "name": "stderr",
     "output_type": "stream",
     "text": [
      "c:\\users\\hp\\appdata\\local\\programs\\python\\python36-32\\lib\\site-packages\\pandas\\core\\frame.py:3697: SettingWithCopyWarning: \n",
      "A value is trying to be set on a copy of a slice from a DataFrame\n",
      "\n",
      "See the caveats in the documentation: http://pandas.pydata.org/pandas-docs/stable/indexing.html#indexing-view-versus-copy\n",
      "  errors=errors)\n"
     ]
    }
   ],
   "source": [
    "new.drop('Tweet', axis=1, inplace=True)"
   ]
  },
  {
   "cell_type": "code",
   "execution_count": 137,
   "metadata": {},
   "outputs": [],
   "source": [
    "new = new.join(tw['Retweet_Count'])"
   ]
  },
  {
   "cell_type": "code",
   "execution_count": 138,
   "metadata": {},
   "outputs": [
    {
     "data": {
      "text/html": [
       "<div>\n",
       "<style scoped>\n",
       "    .dataframe tbody tr th:only-of-type {\n",
       "        vertical-align: middle;\n",
       "    }\n",
       "\n",
       "    .dataframe tbody tr th {\n",
       "        vertical-align: top;\n",
       "    }\n",
       "\n",
       "    .dataframe thead th {\n",
       "        text-align: right;\n",
       "    }\n",
       "</style>\n",
       "<table border=\"1\" class=\"dataframe\">\n",
       "  <thead>\n",
       "    <tr style=\"text-align: right;\">\n",
       "      <th></th>\n",
       "      <th>new tweets</th>\n",
       "      <th>Retweet_Count</th>\n",
       "    </tr>\n",
       "  </thead>\n",
       "  <tbody>\n",
       "    <tr>\n",
       "      <th>0</th>\n",
       "      <td>rt family thing thorragnarok thorsday</td>\n",
       "      <td>2710.0</td>\n",
       "    </tr>\n",
       "    <tr>\n",
       "      <th>1</th>\n",
       "      <td>rt happy thorsday chrishemsworth tomhiddleston...</td>\n",
       "      <td>7.0</td>\n",
       "    </tr>\n",
       "    <tr>\n",
       "      <th>7</th>\n",
       "      <td>thor went need horse another spaceship trip mi...</td>\n",
       "      <td>0.0</td>\n",
       "    </tr>\n",
       "    <tr>\n",
       "      <th>13</th>\n",
       "      <td>used imagine dragonsthunder thor ragnarok marv...</td>\n",
       "      <td>0.0</td>\n",
       "    </tr>\n",
       "    <tr>\n",
       "      <th>42</th>\n",
       "      <td>downloading 2 movie brightmovie thorragnarok</td>\n",
       "      <td>0.0</td>\n",
       "    </tr>\n",
       "  </tbody>\n",
       "</table>\n",
       "</div>"
      ],
      "text/plain": [
       "                                           new tweets  Retweet_Count\n",
       "0               rt family thing thorragnarok thorsday         2710.0\n",
       "1   rt happy thorsday chrishemsworth tomhiddleston...            7.0\n",
       "7   thor went need horse another spaceship trip mi...            0.0\n",
       "13  used imagine dragonsthunder thor ragnarok marv...            0.0\n",
       "42       downloading 2 movie brightmovie thorragnarok            0.0"
      ]
     },
     "execution_count": 138,
     "metadata": {},
     "output_type": "execute_result"
    }
   ],
   "source": [
    "new.head()"
   ]
  },
  {
   "cell_type": "markdown",
   "metadata": {},
   "source": [
    "### Now we have clean data of lemmatized tweets"
   ]
  },
  {
   "cell_type": "code",
   "execution_count": 150,
   "metadata": {},
   "outputs": [
    {
     "name": "stderr",
     "output_type": "stream",
     "text": [
      "c:\\users\\hp\\appdata\\local\\programs\\python\\python36-32\\lib\\site-packages\\ipykernel_launcher.py:3: SettingWithCopyWarning: \n",
      "A value is trying to be set on a copy of a slice from a DataFrame\n",
      "\n",
      "See the caveats in the documentation: http://pandas.pydata.org/pandas-docs/stable/indexing.html#indexing-view-versus-copy\n",
      "  This is separate from the ipykernel package so we can avoid doing imports until\n",
      "c:\\users\\hp\\appdata\\local\\programs\\python\\python36-32\\lib\\site-packages\\ipykernel_launcher.py:5: SettingWithCopyWarning: \n",
      "A value is trying to be set on a copy of a slice from a DataFrame\n",
      "\n",
      "See the caveats in the documentation: http://pandas.pydata.org/pandas-docs/stable/indexing.html#indexing-view-versus-copy\n",
      "  \"\"\"\n"
     ]
    }
   ],
   "source": [
    "for i in new.index:\n",
    "    if (new['new tweets'][i][:2] == 'rt'):\n",
    "        new['Retweet'][i] = \"Yes\"\n",
    "    else:\n",
    "        new['Retweet'][i ]= \"No\""
   ]
  },
  {
   "cell_type": "code",
   "execution_count": 152,
   "metadata": {},
   "outputs": [
    {
     "data": {
      "text/html": [
       "<div>\n",
       "<style scoped>\n",
       "    .dataframe tbody tr th:only-of-type {\n",
       "        vertical-align: middle;\n",
       "    }\n",
       "\n",
       "    .dataframe tbody tr th {\n",
       "        vertical-align: top;\n",
       "    }\n",
       "\n",
       "    .dataframe thead th {\n",
       "        text-align: right;\n",
       "    }\n",
       "</style>\n",
       "<table border=\"1\" class=\"dataframe\">\n",
       "  <thead>\n",
       "    <tr style=\"text-align: right;\">\n",
       "      <th></th>\n",
       "      <th>new tweets</th>\n",
       "      <th>Retweet_Count</th>\n",
       "      <th>Retweet</th>\n",
       "    </tr>\n",
       "  </thead>\n",
       "  <tbody>\n",
       "    <tr>\n",
       "      <th>0</th>\n",
       "      <td>rt family thing thorragnarok thorsday</td>\n",
       "      <td>2710.0</td>\n",
       "      <td>Yes</td>\n",
       "    </tr>\n",
       "    <tr>\n",
       "      <th>1</th>\n",
       "      <td>rt happy thorsday chrishemsworth tomhiddleston...</td>\n",
       "      <td>7.0</td>\n",
       "      <td>Yes</td>\n",
       "    </tr>\n",
       "    <tr>\n",
       "      <th>7</th>\n",
       "      <td>thor went need horse another spaceship trip mi...</td>\n",
       "      <td>0.0</td>\n",
       "      <td>No</td>\n",
       "    </tr>\n",
       "    <tr>\n",
       "      <th>13</th>\n",
       "      <td>used imagine dragonsthunder thor ragnarok marv...</td>\n",
       "      <td>0.0</td>\n",
       "      <td>No</td>\n",
       "    </tr>\n",
       "    <tr>\n",
       "      <th>42</th>\n",
       "      <td>downloading 2 movie brightmovie thorragnarok</td>\n",
       "      <td>0.0</td>\n",
       "      <td>No</td>\n",
       "    </tr>\n",
       "  </tbody>\n",
       "</table>\n",
       "</div>"
      ],
      "text/plain": [
       "                                           new tweets  Retweet_Count Retweet\n",
       "0               rt family thing thorragnarok thorsday         2710.0     Yes\n",
       "1   rt happy thorsday chrishemsworth tomhiddleston...            7.0     Yes\n",
       "7   thor went need horse another spaceship trip mi...            0.0      No\n",
       "13  used imagine dragonsthunder thor ragnarok marv...            0.0      No\n",
       "42       downloading 2 movie brightmovie thorragnarok            0.0      No"
      ]
     },
     "execution_count": 152,
     "metadata": {},
     "output_type": "execute_result"
    }
   ],
   "source": [
    "new.head()"
   ]
  },
  {
   "cell_type": "code",
   "execution_count": null,
   "metadata": {},
   "outputs": [],
   "source": []
  },
  {
   "cell_type": "code",
   "execution_count": null,
   "metadata": {},
   "outputs": [],
   "source": []
  },
  {
   "cell_type": "code",
   "execution_count": null,
   "metadata": {},
   "outputs": [],
   "source": []
  },
  {
   "cell_type": "code",
   "execution_count": 165,
   "metadata": {},
   "outputs": [],
   "source": [
    "from sklearn.feature_extraction.text import TfidfVectorizer\n",
    "tfidfVec = TfidfVectorizer()"
   ]
  },
  {
   "cell_type": "code",
   "execution_count": 169,
   "metadata": {},
   "outputs": [],
   "source": [
    "tweets_vector = tfidfVec.fit_transform(new['new tweets'])"
   ]
  },
  {
   "cell_type": "code",
   "execution_count": 171,
   "metadata": {},
   "outputs": [
    {
     "data": {
      "text/plain": [
       "<223x760 sparse matrix of type '<class 'numpy.float64'>'\n",
       "\twith 1769 stored elements in Compressed Sparse Row format>"
      ]
     },
     "execution_count": 171,
     "metadata": {},
     "output_type": "execute_result"
    }
   ],
   "source": [
    "tweets_vector"
   ]
  },
  {
   "cell_type": "code",
   "execution_count": null,
   "metadata": {},
   "outputs": [],
   "source": []
  },
  {
   "cell_type": "code",
   "execution_count": 167,
   "metadata": {},
   "outputs": [],
   "source": [
    "from sklearn.cluster import KMeans"
   ]
  },
  {
   "cell_type": "code",
   "execution_count": 168,
   "metadata": {},
   "outputs": [],
   "source": [
    "km = KMeans(n_clusters=2)"
   ]
  },
  {
   "cell_type": "code",
   "execution_count": 172,
   "metadata": {},
   "outputs": [
    {
     "data": {
      "text/plain": [
       "KMeans(algorithm='auto', copy_x=True, init='k-means++', max_iter=300,\n",
       "    n_clusters=2, n_init=10, n_jobs=1, precompute_distances='auto',\n",
       "    random_state=None, tol=0.0001, verbose=0)"
      ]
     },
     "execution_count": 172,
     "metadata": {},
     "output_type": "execute_result"
    }
   ],
   "source": [
    "km.fit(tweets_vector)"
   ]
  },
  {
   "cell_type": "code",
   "execution_count": 173,
   "metadata": {},
   "outputs": [
    {
     "data": {
      "text/plain": [
       "array([[0.        , 0.        , 0.        , ..., 0.        , 0.        ,\n",
       "        0.        ],\n",
       "       [0.00161595, 0.00212243, 0.00191421, ..., 0.00549224, 0.00127876,\n",
       "        0.00148683]])"
      ]
     },
     "execution_count": 173,
     "metadata": {},
     "output_type": "execute_result"
    }
   ],
   "source": [
    "km.cluster_centers_"
   ]
  },
  {
   "cell_type": "code",
   "execution_count": 174,
   "metadata": {},
   "outputs": [
    {
     "data": {
      "text/plain": [
       "array([0, 0, 1, 0, 1, 1, 1, 0, 1, 1, 1, 1, 1, 1, 0, 1, 1, 1, 1, 1, 1, 1,\n",
       "       1, 1, 1, 1, 1, 1, 1, 1, 1, 1, 1, 1, 1, 1, 1, 1, 1, 1, 1, 1, 1, 0,\n",
       "       1, 1, 1, 1, 0, 0, 1, 1, 1, 1, 1, 1, 1, 1, 1, 1, 1, 1, 0, 1, 1, 1,\n",
       "       1, 1, 1, 1, 1, 1, 1, 1, 0, 1, 1, 1, 1, 1, 1, 1, 1, 1, 1, 1, 1, 1,\n",
       "       1, 1, 1, 1, 1, 1, 1, 1, 1, 1, 1, 1, 1, 1, 1, 1, 1, 1, 1, 1, 1, 1,\n",
       "       1, 1, 1, 1, 1, 1, 1, 1, 1, 1, 1, 1, 1, 1, 1, 1, 1, 1, 1, 1, 1, 1,\n",
       "       1, 1, 1, 1, 1, 1, 1, 1, 0, 1, 1, 1, 1, 1, 1, 1, 1, 1, 1, 1, 1, 1,\n",
       "       1, 1, 1, 1, 1, 1, 1, 1, 1, 1, 1, 1, 1, 1, 1, 1, 1, 0, 1, 1, 0, 1,\n",
       "       1, 1, 1, 1, 1, 1, 1, 1, 1, 1, 1, 1, 1, 1, 1, 1, 1, 1, 1, 1, 1, 1,\n",
       "       1, 1, 1, 1, 1, 1, 1, 1, 1, 1, 1, 1, 1, 1, 1, 1, 1, 1, 1, 1, 1, 0,\n",
       "       1, 1, 1])"
      ]
     },
     "execution_count": 174,
     "metadata": {},
     "output_type": "execute_result"
    }
   ],
   "source": [
    "km.labels_"
   ]
  },
  {
   "cell_type": "code",
   "execution_count": null,
   "metadata": {},
   "outputs": [],
   "source": []
  },
  {
   "cell_type": "code",
   "execution_count": 177,
   "metadata": {},
   "outputs": [],
   "source": [
    "from textblob import TextBlob"
   ]
  },
  {
   "cell_type": "code",
   "execution_count": 222,
   "metadata": {},
   "outputs": [],
   "source": [
    "grade = []"
   ]
  },
  {
   "cell_type": "code",
   "execution_count": 223,
   "metadata": {},
   "outputs": [],
   "source": [
    "for i in new.index:\n",
    "    g_b_tweets = TextBlob(new['new tweets'][i])\n",
    "    \n",
    "    if g_b_tweets.sentiment.polarity < 0:\n",
    "            sentiment = \"negative\"\n",
    "    elif g_b_tweets.sentiment.polarity == 0:\n",
    "            sentiment = \"neutral\"\n",
    "    else:\n",
    "            sentiment = \"positive\"\n",
    "    grade.append(sentiment)"
   ]
  },
  {
   "cell_type": "code",
   "execution_count": 224,
   "metadata": {},
   "outputs": [],
   "source": [
    "new['sentiment'] = grade"
   ]
  },
  {
   "cell_type": "code",
   "execution_count": 225,
   "metadata": {},
   "outputs": [
    {
     "data": {
      "text/html": [
       "<div>\n",
       "<style scoped>\n",
       "    .dataframe tbody tr th:only-of-type {\n",
       "        vertical-align: middle;\n",
       "    }\n",
       "\n",
       "    .dataframe tbody tr th {\n",
       "        vertical-align: top;\n",
       "    }\n",
       "\n",
       "    .dataframe thead th {\n",
       "        text-align: right;\n",
       "    }\n",
       "</style>\n",
       "<table border=\"1\" class=\"dataframe\">\n",
       "  <thead>\n",
       "    <tr style=\"text-align: right;\">\n",
       "      <th></th>\n",
       "      <th>new tweets</th>\n",
       "      <th>Retweet_Count</th>\n",
       "      <th>Retweet</th>\n",
       "      <th>sentiment</th>\n",
       "    </tr>\n",
       "  </thead>\n",
       "  <tbody>\n",
       "    <tr>\n",
       "      <th>0</th>\n",
       "      <td>rt family thing thorragnarok thorsday</td>\n",
       "      <td>2710.0</td>\n",
       "      <td>Yes</td>\n",
       "      <td>neutral</td>\n",
       "    </tr>\n",
       "    <tr>\n",
       "      <th>1</th>\n",
       "      <td>rt happy thorsday chrishemsworth tomhiddleston...</td>\n",
       "      <td>7.0</td>\n",
       "      <td>Yes</td>\n",
       "      <td>positive</td>\n",
       "    </tr>\n",
       "    <tr>\n",
       "      <th>7</th>\n",
       "      <td>thor went need horse another spaceship trip mi...</td>\n",
       "      <td>0.0</td>\n",
       "      <td>No</td>\n",
       "      <td>neutral</td>\n",
       "    </tr>\n",
       "    <tr>\n",
       "      <th>13</th>\n",
       "      <td>used imagine dragonsthunder thor ragnarok marv...</td>\n",
       "      <td>0.0</td>\n",
       "      <td>No</td>\n",
       "      <td>neutral</td>\n",
       "    </tr>\n",
       "    <tr>\n",
       "      <th>42</th>\n",
       "      <td>downloading 2 movie brightmovie thorragnarok</td>\n",
       "      <td>0.0</td>\n",
       "      <td>No</td>\n",
       "      <td>neutral</td>\n",
       "    </tr>\n",
       "  </tbody>\n",
       "</table>\n",
       "</div>"
      ],
      "text/plain": [
       "                                           new tweets  Retweet_Count Retweet  \\\n",
       "0               rt family thing thorragnarok thorsday         2710.0     Yes   \n",
       "1   rt happy thorsday chrishemsworth tomhiddleston...            7.0     Yes   \n",
       "7   thor went need horse another spaceship trip mi...            0.0      No   \n",
       "13  used imagine dragonsthunder thor ragnarok marv...            0.0      No   \n",
       "42       downloading 2 movie brightmovie thorragnarok            0.0      No   \n",
       "\n",
       "   sentiment  \n",
       "0    neutral  \n",
       "1   positive  \n",
       "7    neutral  \n",
       "13   neutral  \n",
       "42   neutral  "
      ]
     },
     "execution_count": 225,
     "metadata": {},
     "output_type": "execute_result"
    }
   ],
   "source": [
    "new.head()"
   ]
  },
  {
   "cell_type": "code",
   "execution_count": null,
   "metadata": {},
   "outputs": [],
   "source": []
  },
  {
   "cell_type": "code",
   "execution_count": 227,
   "metadata": {},
   "outputs": [
    {
     "data": {
      "text/plain": [
       "<matplotlib.axes._subplots.AxesSubplot at 0x16eba710>"
      ]
     },
     "execution_count": 227,
     "metadata": {},
     "output_type": "execute_result"
    },
    {
     "data": {
      "image/png": "[encoded data removed]",
      "text/plain": [
       "<matplotlib.figure.Figure at 0x16ec2ad0>"
      ]
     },
     "metadata": {},
     "output_type": "display_data"
    }
   ],
   "source": [
    "sns.countplot(new['sentiment'], hue=new['Retweet'])"
   ]
  },
  {
   "cell_type": "code",
   "execution_count": null,
   "metadata": {},
   "outputs": [],
   "source": []
  }
 ],
 "metadata": {
  "kernelspec": {
   "display_name": "Python 3",
   "language": "python",
   "name": "python3"
  },
  "language_info": {
   "codemirror_mode": {
    "name": "ipython",
    "version": 3
   },
   "file_extension": ".py",
   "mimetype": "text/x-python",
   "name": "python",
   "nbconvert_exporter": "python",
   "pygments_lexer": "ipython3",
   "version": "3.6.3"
  }
 },
 "nbformat": 4,
 "nbformat_minor": 2
}
